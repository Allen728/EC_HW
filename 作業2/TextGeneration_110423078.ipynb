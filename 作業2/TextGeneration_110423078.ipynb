{
  "nbformat": 4,
  "nbformat_minor": 0,
  "metadata": {
    "accelerator": "GPU",
    "colab": {
      "name": "TextGeneration-110423078_v2.ipynb",
      "provenance": [],
      "collapsed_sections": []
    },
    "kernelspec": {
      "display_name": "Python 3",
      "name": "python3"
    }
  },
  "cells": [
    {
      "cell_type": "markdown",
      "metadata": {
        "id": "wRBvwrOM15OY"
      },
      "source": [
        "<img src=\"https://i.imgur.com/12tfKrD.png\" alt=\"Alin\">\n",
        "</img>\n",
        "\n",
        "\n",
        "# Demo RNN -- 張愛玲散文集AI二次創作\n",
        "\n",
        "資料集: 張愛玲繁體中文小說 《傳奇》\n",
        "\n",
        "爬蟲來源: [crawl_book](https://colab.research.google.com/drive/1f_HvQEvgkJPFc473TlA-I_3EmkThA2SR?usp=sharing)\n",
        "\n",
        "程式碼參考: [Tensorflow](https://www.tensorflow.org/tutorials/text/text_generation)\n",
        "\n",
        "本次資料集，著作權乃是張愛玲女士所擁有。**請勿將本次資料集散播、更改、用於非商業用途**。\n",
        "\n",
        "> **資料集說明**\n",
        "\n",
        "今年是張愛玲女士101年誕辰。張愛玲出生名門，曾就讀於香港大學和聖約翰大學，受過良好的中西教育。上海淪陷時期，陸續發表《沉香屑·第一爐香》、《傾城之戀》、《心經》、《金鎖記》等中、短篇小說，震動上海文壇。\n",
        "\n",
        "這次訓練取張愛玲散文集《傳奇》作為訓練，《傳奇》收留五篇散文: 「留情」、「鴻鸞禧」、「紅玫瑰與白玫瑰」、「等」、「桂花蒸阿小悲秋」。其中以「紅玫瑰與白玫瑰」最為膾炙人口。\n",
        "\n",
        "> **訓練步驟**\n",
        "\n",
        "深度學習在訓練模型上有以下幾個重要的步驟:\n",
        "1. 讀入相關封包\n",
        "2. 取得資料集 \n",
        "3. 資料前處理\n",
        "4. 建立模型\n",
        "5. 制定訓練計畫\n",
        "6. 評估模型\n",
        "7. 做預測\n",
        "\n",
        "> **本次模型介紹 RNN**\n",
        "\n",
        "![](https://i.imgur.com/FaY50C8.png)\n",
        "\n",
        "\n",
        "我們來看看維度，很多人會搞不懂RNN的維度:\n",
        "\n",
        "一個Seq通過RNN後的維度\n",
        "\n",
        "* Input: (Seq,${originDim}$)\n",
        "* RNN Neuron: 2048\n",
        "* Output: (Seq,2048) if (return_sequence == True) else (1,2048)\n",
        "![](https://i.imgur.com/9SVl6JR.png)\n",
        "\n",
        "![](https://i.imgur.com/z4ElFIr.png)\n",
        "\n",
        "> **把生成問題變成分類問題**\n",
        "\n",
        "![](https://i.imgur.com/TBHKuf6.png)\n"
      ]
    },
    {
      "cell_type": "code",
      "metadata": {
        "id": "HoKPksUD96Mb",
        "colab": {
          "base_uri": "https://localhost:8080/"
        },
        "outputId": "ce89a572-7404-4cfd-fa90-abf004eafe40"
      },
      "source": [
        "# ****************************************\n",
        "# **請勿將本次資料集散播、用於非學術用途**\n",
        "# ****************************************\n",
        "\n",
        "# 執行即代表同意將會合法、合理使用資料集\n",
        "# 太多人同時存取可能會報cannot retrieve file error\n",
        "# 點擊you may still be able to access 下面那個連結再自行上傳檔案即可\n",
        "\n",
        "!gdown --id 1gMpt0CdlPjr1cR3HwDqumeKaucrSYhhe --output \"./Eileen_Legendary.txt\"\n",
        "\n",
        "# !wget -O Eileen_Legendary.txt \"http://140.115.82.54/NN/Recurrent/Eileen_Legendary.txt\""
      ],
      "execution_count": 23,
      "outputs": [
        {
          "output_type": "stream",
          "name": "stdout",
          "text": [
            "/usr/local/lib/python3.7/dist-packages/gdown/cli.py:131: FutureWarning: Option `--id` was deprecated in version 4.3.1 and will be removed in 5.0. You don't need to pass it anymore to use a file ID.\n",
            "  category=FutureWarning,\n",
            "Downloading...\n",
            "From: https://drive.google.com/uc?id=1gMpt0CdlPjr1cR3HwDqumeKaucrSYhhe\n",
            "To: /content/Eileen_Legendary.txt\n",
            "100% 818k/818k [00:00<00:00, 164MB/s]\n"
          ]
        }
      ]
    },
    {
      "cell_type": "markdown",
      "metadata": {
        "id": "_aEUrr67TzFb"
      },
      "source": [
        "## 1. 讀入Package"
      ]
    },
    {
      "cell_type": "code",
      "metadata": {
        "id": "pPCmAo0Q_G3i"
      },
      "source": [
        "import numpy as np\n",
        "import tensorflow as tf\n",
        "import pandas as pd\n",
        "from tensorflow import keras\n",
        "from tensorflow.keras import layers\n",
        "import os\n",
        "import matplotlib.pyplot as plt"
      ],
      "execution_count": 24,
      "outputs": []
    },
    {
      "cell_type": "markdown",
      "metadata": {
        "id": "Y550TvUGT9xv"
      },
      "source": [
        "## 2. 取得資料集"
      ]
    },
    {
      "cell_type": "code",
      "metadata": {
        "id": "1Mbvzh_9_Tz8",
        "colab": {
          "base_uri": "https://localhost:8080/"
        },
        "outputId": "9a939ac4-14aa-438b-aed3-d4ffbc1fd7bd"
      },
      "source": [
        "# 作業之一就是試試看其他本小說\n",
        "\n",
        "book = \"\"\n",
        "with open(\"./Eileen_Legendary.txt\",\"r\",encoding=\"utf8\") as file:\n",
        "  for line in file:\n",
        "    book += line\n",
        "\n",
        "book_length = len(book)\n",
        "unique_words = set(book)\n",
        "print(f\"張愛玲散文集共有 {book_length} 字詞\")\n",
        "print(f\"包含了 {len(unique_words)} 個獨一無二的字 (含標點符號)\\n\")\n",
        "print(book[0:500])"
      ],
      "execution_count": 25,
      "outputs": [
        {
          "output_type": "stream",
          "name": "stdout",
          "text": [
            "張愛玲散文集共有 274000 字詞\n",
            "包含了 3665 個獨一無二的字 (含標點符號)\n",
            "\n",
            "我自己從來沒想到需要辯白，但最近一年來常常被人議論到，似乎被列為文化漢奸之一，自己也弄得莫名其妙。我所寫的文章從來沒有涉及政治，也沒有拿過任何津貼。想想看我唯一的嫌疑要末就是所謂「大東亞文學者大會」第三屆曾經叫我參加，報上登出的名單內有我；雖然我寫了辭函去，（那封信我還記得，因為很短，僅只是：「承聘為第三屆大東亞文學者大會代表，謹辭。張愛玲謹上。」）報上仍舊沒有把名字去掉。\n",
            "至於還有許多無稽的謾罵，甚而涉及我的私生活，可以辯駁之點本來非常多。而且即使有這種事實，也還牽涉不到我是否有漢奸嫌疑的問題；何況私人的事本來用不著向大眾剖白，除了對自己家的家長之外彷彿我沒有解釋的義務。所以一直緘默著。同時我也實在不願意耗費時間與精神去打筆墨官司，徒然攪亂心思，耽誤了正當的工作。但一直這樣沉默著，始終沒有闡明我的地位，給社會上一個錯誤的印象，我也覺得是對不起關心我的前途的人。所以在小說集重印的時候寫了這樣一段作為序。反正只要讀者知道了就是了。\n",
            "※※※\n",
            "《傳奇》裏面新收進的五篇，「留情」、「鴻鸞禧」、「紅玫瑰與白玫瑰」、「等」、「桂花蒸阿小悲秋」，初發表的時候有許多草率的地方，實在對讀者感到抱歉，這次\n"
          ]
        }
      ]
    },
    {
      "cell_type": "markdown",
      "metadata": {
        "id": "Anv0UglDUQk2"
      },
      "source": [
        "## 3. 資料前處理\n",
        "\n",
        "文字前處理有一堆方法、作法:\n",
        "* 切字\n",
        "* 還原\n",
        "* 清除特殊字符\n",
        "* 清除不常見字符 (StopWord)\n",
        "\n",
        "\n",
        "我這裡僅使用去除不常見的字(StopWord)"
      ]
    },
    {
      "cell_type": "code",
      "metadata": {
        "id": "tQDQ8hxBEa6d"
      },
      "source": [
        "# 計算字數統計\n",
        "words_count = {}\n",
        "for w in book:\n",
        "  if w in words_count:\n",
        "    words_count[w] += 1\n",
        "  else:\n",
        "    words_count[w] = 1\n",
        "\n",
        "words_count = sorted(words_count.items(),key=lambda x:x[1])"
      ],
      "execution_count": 26,
      "outputs": []
    },
    {
      "cell_type": "code",
      "metadata": {
        "id": "VT90O679Fe0T",
        "colab": {
          "base_uri": "https://localhost:8080/"
        },
        "outputId": "46b95abb-11e0-49b1-f601-5be8708e9ad7"
      },
      "source": [
        "stop_word = 8\n",
        "unique_words = [w_tup[0] for w_tup in words_count if w_tup[1]>stop_word]\n",
        "print(f\"去除次數小於{stop_word}的文字剩餘 : {len(unique_words)}\")"
      ],
      "execution_count": 27,
      "outputs": [
        {
          "output_type": "stream",
          "name": "stdout",
          "text": [
            "去除次數小於8的文字剩餘 : 1973\n"
          ]
        }
      ]
    },
    {
      "cell_type": "code",
      "metadata": {
        "id": "e_uP5gOVIy2K",
        "colab": {
          "base_uri": "https://localhost:8080/"
        },
        "outputId": "68712ac9-52cd-4832-e1fc-1cbe26da9b8f"
      },
      "source": [
        "print(f\"原本張愛玲散文集共有 {book_length} 字詞\")\n",
        "print(f\"去除不常出現的文字後\")\n",
        "book = [w for w in book if w in unique_words]\n",
        "print(f\"剩餘{len(book)}個字\")"
      ],
      "execution_count": 28,
      "outputs": [
        {
          "output_type": "stream",
          "name": "stdout",
          "text": [
            "原本張愛玲散文集共有 274000 字詞\n",
            "去除不常出現的文字後\n",
            "剩餘268660個字\n"
          ]
        }
      ]
    },
    {
      "cell_type": "code",
      "metadata": {
        "id": "6LP0BwFDAmcS",
        "colab": {
          "base_uri": "https://localhost:8080/"
        },
        "outputId": "900bdf8d-96ef-49ff-9c34-317b0e2c61cc"
      },
      "source": [
        "# 文字轉數字(index)\n",
        "word_2_index = {word:index for index,word in enumerate(unique_words)}\n",
        "index_2_word = {word_2_index[word]:word for word in word_2_index}\n",
        "\n",
        "book_2_index = [word_2_index[w] for w in book]\n",
        "\n",
        "print(\"原始文字 : \")\n",
        "print(book[:40])\n",
        "print(\"-\"*40)\n",
        "print(\"轉成index : \")\n",
        "print({word_2_index[w] for w in book[:40]})"
      ],
      "execution_count": 29,
      "outputs": [
        {
          "output_type": "stream",
          "name": "stdout",
          "text": [
            "原始文字 : \n",
            "['我', '自', '己', '從', '來', '沒', '想', '到', '需', '要', '辯', '白', '，', '但', '最', '近', '一', '年', '來', '常', '常', '被', '人', '議', '論', '到', '，', '似', '乎', '被', '列', '為', '文', '化', '漢', '之', '一', '，', '自', '己']\n",
            "----------------------------------------\n",
            "轉成index : \n",
            "{1921, 1540, 1799, 1929, 1937, 659, 1428, 1558, 1053, 1954, 1955, 1188, 1958, 1968, 178, 1972, 1854, 1730, 1731, 1618, 1876, 1885, 1890, 1891, 1636, 99, 614, 1646, 1905, 1907, 1781}\n"
          ]
        }
      ]
    },
    {
      "cell_type": "code",
      "metadata": {
        "id": "H-KDv4kqgxLH"
      },
      "source": [
        "def ind2word_seq(seq):\n",
        "  return [index_2_word[i] for i in seq]"
      ],
      "execution_count": 30,
      "outputs": []
    },
    {
      "cell_type": "code",
      "metadata": {
        "id": "_aDyjJymDmVv",
        "colab": {
          "base_uri": "https://localhost:8080/"
        },
        "outputId": "eefc62ea-5258-43e7-d8cf-bdf518325f71"
      },
      "source": [
        "# 設定輸入模型長度\n",
        "seq_len = 20\n",
        "characters = tf.data.Dataset.from_tensor_slices(book_2_index)\n",
        "# characters = characters.map(lambda w:word_2_index[w.item()])\n",
        "\n",
        "sequences = characters.batch(seq_len+1,drop_remainder=True)\n",
        "\n",
        "for seq in sequences.take(2):\n",
        "  print(seq.shape)\n",
        "  print(seq)\n",
        "  print([index_2_word[i] for i in seq.numpy()])"
      ],
      "execution_count": 31,
      "outputs": [
        {
          "output_type": "stream",
          "name": "stdout",
          "text": [
            "(21,)\n",
            "tf.Tensor(\n",
            "[1954 1907 1876 1854 1958 1929 1890 1937  659 1921  614 1891 1972 1730\n",
            " 1636 1558 1968 1885 1958 1731 1731], shape=(21,), dtype=int32)\n",
            "['我', '自', '己', '從', '來', '沒', '想', '到', '需', '要', '辯', '白', '，', '但', '最', '近', '一', '年', '來', '常', '常']\n",
            "(21,)\n",
            "tf.Tensor(\n",
            "[1646 1955 1053 1428 1937 1972 1799 1540 1646   99 1905 1618 1188  178\n",
            " 1781 1968 1972 1907 1876 1942 1470], shape=(21,), dtype=int32)\n",
            "['被', '人', '議', '論', '到', '，', '似', '乎', '被', '列', '為', '文', '化', '漢', '之', '一', '，', '自', '己', '也', '弄']\n"
          ]
        }
      ]
    },
    {
      "cell_type": "markdown",
      "metadata": {
        "id": "1-dxqFkd7RU1"
      },
      "source": [
        "![](https://i.imgur.com/YMVMFEJ.png)\n"
      ]
    },
    {
      "cell_type": "code",
      "metadata": {
        "id": "jhFC16MdLONw",
        "colab": {
          "base_uri": "https://localhost:8080/"
        },
        "outputId": "a708c68f-542f-4a31-9d7d-0636af8f418a"
      },
      "source": [
        "# 做input、target切割\n",
        "def split_input_target(seq):\n",
        "  input_txt = seq[:-1]\n",
        "  target_txt = seq[1:]\n",
        "  return input_txt,target_txt\n",
        "\n",
        "split_input_target(list(\"Tensorflow\"))"
      ],
      "execution_count": 32,
      "outputs": [
        {
          "output_type": "execute_result",
          "data": {
            "text/plain": [
              "(['T', 'e', 'n', 's', 'o', 'r', 'f', 'l', 'o'],\n",
              " ['e', 'n', 's', 'o', 'r', 'f', 'l', 'o', 'w'])"
            ]
          },
          "metadata": {},
          "execution_count": 32
        }
      ]
    },
    {
      "cell_type": "markdown",
      "metadata": {
        "id": "F-O91DUM_uYV"
      },
      "source": [
        "![](https://i.imgur.com/YoHWLkf.png)\n"
      ]
    },
    {
      "cell_type": "code",
      "metadata": {
        "id": "qnJ4Bdj2gZ1V",
        "colab": {
          "base_uri": "https://localhost:8080/"
        },
        "outputId": "1922d3d4-c4ca-4309-f2bd-3d5f60be9c28"
      },
      "source": [
        "dataset = sequences.map(split_input_target)\n",
        "\n",
        "for input_example,target_exaple in dataset.take(1):\n",
        "  print(\"Input :\", ind2word_seq(input_example.numpy()))\n",
        "  print(\"Target:\", ind2word_seq(target_exaple.numpy()))\n",
        "  print(\"-\"*50)\n",
        "  print(\"Input :\", input_example.numpy())\n",
        "  print(\"Target:\", target_exaple.numpy())"
      ],
      "execution_count": 33,
      "outputs": [
        {
          "output_type": "stream",
          "name": "stdout",
          "text": [
            "Input : ['我', '自', '己', '從', '來', '沒', '想', '到', '需', '要', '辯', '白', '，', '但', '最', '近', '一', '年', '來', '常']\n",
            "Target: ['自', '己', '從', '來', '沒', '想', '到', '需', '要', '辯', '白', '，', '但', '最', '近', '一', '年', '來', '常', '常']\n",
            "--------------------------------------------------\n",
            "Input : [1954 1907 1876 1854 1958 1929 1890 1937  659 1921  614 1891 1972 1730\n",
            " 1636 1558 1968 1885 1958 1731]\n",
            "Target: [1907 1876 1854 1958 1929 1890 1937  659 1921  614 1891 1972 1730 1636\n",
            " 1558 1968 1885 1958 1731 1731]\n"
          ]
        }
      ]
    },
    {
      "cell_type": "code",
      "metadata": {
        "id": "UNivSh2Igr2-",
        "colab": {
          "base_uri": "https://localhost:8080/"
        },
        "outputId": "57e40698-d55a-4db8-97e7-00358dd3d3d9"
      },
      "source": [
        "# 建立資料集\n",
        "# Batch size\n",
        "BATCH_SIZE = 64\n",
        "\n",
        "BUFFER_SIZE = 10000\n",
        "\n",
        "dataset = (\n",
        "    dataset\n",
        "    .shuffle(BUFFER_SIZE)\n",
        "    .batch(BATCH_SIZE, drop_remainder=True))\n",
        "\n",
        "dataset"
      ],
      "execution_count": 34,
      "outputs": [
        {
          "output_type": "execute_result",
          "data": {
            "text/plain": [
              "<BatchDataset element_spec=(TensorSpec(shape=(64, 20), dtype=tf.int32, name=None), TensorSpec(shape=(64, 20), dtype=tf.int32, name=None))>"
            ]
          },
          "metadata": {},
          "execution_count": 34
        }
      ]
    },
    {
      "cell_type": "markdown",
      "metadata": {
        "id": "xcDWKSbYUWWB"
      },
      "source": [
        "## 4. 建立模型\n",
        "\n",
        "![](https://i.imgur.com/TBHKuf6.png)"
      ]
    },
    {
      "cell_type": "code",
      "metadata": {
        "id": "UkRcSZAHnxlk",
        "colab": {
          "base_uri": "https://localhost:8080/"
        },
        "outputId": "55682a6c-645d-4582-d3aa-a46a38be287e"
      },
      "source": [
        "# 超參數\n",
        "EMBEDDING_DIM = 512\n",
        "\n",
        "# 使用 keras 建立一個非常簡單的 LSTM 模型\n",
        "model = tf.keras.Sequential()\n",
        "\n",
        "model.add(\n",
        "  tf.keras.layers.Embedding(\n",
        "    input_dim=len(unique_words), \n",
        "    output_dim=EMBEDDING_DIM\n",
        "))\n",
        "\n",
        "model.add(\n",
        "  tf.keras.layers.LSTM(\n",
        "    units=4096, \n",
        "    return_sequences=True, \n",
        "))\n",
        "\n",
        "model.add(\n",
        "  tf.keras.layers.LSTM(\n",
        "    units=2048, \n",
        "    return_sequences=True,\n",
        "))\n",
        "  \n",
        "model.add(\n",
        "  tf.keras.layers.Dense(\n",
        "      len(unique_words),activation=\"softmax\"))\n",
        "\n",
        "model.summary()"
      ],
      "execution_count": 35,
      "outputs": [
        {
          "output_type": "stream",
          "name": "stdout",
          "text": [
            "Model: \"sequential_1\"\n",
            "_________________________________________________________________\n",
            " Layer (type)                Output Shape              Param #   \n",
            "=================================================================\n",
            " embedding_1 (Embedding)     (None, None, 512)         1010176   \n",
            "                                                                 \n",
            " lstm_2 (LSTM)               (None, None, 4096)        75513856  \n",
            "                                                                 \n",
            " lstm_3 (LSTM)               (None, None, 2048)        50339840  \n",
            "                                                                 \n",
            " dense_1 (Dense)             (None, None, 1973)        4042677   \n",
            "                                                                 \n",
            "=================================================================\n",
            "Total params: 130,906,549\n",
            "Trainable params: 130,906,549\n",
            "Non-trainable params: 0\n",
            "_________________________________________________________________\n"
          ]
        }
      ]
    },
    {
      "cell_type": "code",
      "metadata": {
        "id": "YKiszF5doFGz",
        "colab": {
          "base_uri": "https://localhost:8080/"
        },
        "outputId": "384e3507-60e5-4904-d0f7-1a4b9b41930d"
      },
      "source": [
        "# 查看模型的輸入、輸出 shape\n",
        "for input_example,target_exaple in dataset.take(1):\n",
        "  predict_example = model(input_example)\n",
        "  print(f\"Model input shape : {input_example.shape}\")\n",
        "  print(f\"Model output shape : {predict_example.shape}\")\n",
        "  print(f\"Model target shape : {target_exaple.shape}\")"
      ],
      "execution_count": 36,
      "outputs": [
        {
          "output_type": "stream",
          "name": "stdout",
          "text": [
            "Model input shape : (64, 20)\n",
            "Model output shape : (64, 20, 1973)\n",
            "Model target shape : (64, 20)\n"
          ]
        }
      ]
    },
    {
      "cell_type": "code",
      "metadata": {
        "id": "CsN6Zz4NReV4",
        "colab": {
          "base_uri": "https://localhost:8080/"
        },
        "outputId": "c605af17-41b3-47ba-fb38-7bb7fc8f8d5b"
      },
      "source": [
        "print(\"原本的中文字序列：\")\n",
        "[print(index_2_word[ind],end=\"\") for ind in input_example[0].numpy()]\n",
        "print()\n",
        "print(\"-\"*40)\n",
        "print(\"輸入尚未訓練的model後獲得：\")\n",
        "print()\n",
        "\n",
        "predict_words = tf.math.argmax(predict_example[0],-1)\n",
        "[print(index_2_word[ind],end=\"\") for ind in predict_words.numpy()]\n",
        "print()"
      ],
      "execution_count": 37,
      "outputs": [
        {
          "output_type": "stream",
          "name": "stdout",
          "text": [
            "原本的中文字序列：\n",
            "濟的關係嗎？」梁太太答道：「他並不是沒有\n",
            "----------------------------------------\n",
            "輸入尚未訓練的model後獲得：\n",
            "\n",
            "衫章職摘繼廊偶偶余余謂謂謂謂誰誰封封��\n"
          ]
        }
      ]
    },
    {
      "cell_type": "markdown",
      "metadata": {
        "id": "peEbrfDrUfuz"
      },
      "source": [
        "## 5. 制定訓練計畫並訓練\n",
        "\n",
        "* [sparse_categorical_crossentropy](https://www.tensorflow.org/api_docs/python/tf/keras/losses/sparse_categorical_crossentropy) V.S. [categorical_crossentropy](https://www.tensorflow.org/api_docs/python/tf/keras/losses/categorical_crossentropy)\n",
        "\n",
        "```python=\n",
        "# categorical_crossentropy\n",
        "y_true = [[0, 1, 0], [0, 0, 1]]\n",
        "y_pred = [[0.05, 0.95, 0], [0.1, 0.8, 0.1]]\n",
        "assert loss.shape == (2,)\n",
        "\n",
        "# sparse_categorical_crossentropy\n",
        "y_true = [1, 2]\n",
        "y_pred = [[0.05, 0.95, 0], [0.1, 0.8, 0.1]]\n",
        "assert loss.shape == (2,)\n",
        "\n",
        "```\n"
      ]
    },
    {
      "cell_type": "code",
      "metadata": {
        "id": "unPfQAQBonFj"
      },
      "source": [
        "model.compile(loss=\"sparse_categorical_crossentropy\",optimizer=\"adam\")"
      ],
      "execution_count": 38,
      "outputs": []
    },
    {
      "cell_type": "code",
      "metadata": {
        "id": "5IW5xiiMpJhJ",
        "colab": {
          "base_uri": "https://localhost:8080/"
        },
        "outputId": "40f2f15f-853d-4a01-cf28-a65b056a1fc8"
      },
      "source": [
        "EPOCHS = 10\n",
        "history = model.fit(\n",
        "    dataset, # 前面使用 tf.data 建構的資料集\n",
        "    epochs=EPOCHS,\n",
        ")"
      ],
      "execution_count": 39,
      "outputs": [
        {
          "output_type": "stream",
          "name": "stdout",
          "text": [
            "Epoch 1/10\n",
            "199/199 [==============================] - 64s 306ms/step - loss: 6.0177\n",
            "Epoch 2/10\n",
            "199/199 [==============================] - 65s 322ms/step - loss: 5.2913\n",
            "Epoch 3/10\n",
            "199/199 [==============================] - 67s 335ms/step - loss: 4.8105\n",
            "Epoch 4/10\n",
            "199/199 [==============================] - 68s 338ms/step - loss: 4.4960\n",
            "Epoch 5/10\n",
            "199/199 [==============================] - 68s 337ms/step - loss: 4.2614\n",
            "Epoch 6/10\n",
            "199/199 [==============================] - 67s 337ms/step - loss: 4.0570\n",
            "Epoch 7/10\n",
            "199/199 [==============================] - 67s 337ms/step - loss: 3.8503\n",
            "Epoch 8/10\n",
            "199/199 [==============================] - 67s 337ms/step - loss: 3.6280\n",
            "Epoch 9/10\n",
            "199/199 [==============================] - 67s 337ms/step - loss: 3.3786\n",
            "Epoch 10/10\n",
            "199/199 [==============================] - 67s 337ms/step - loss: 3.0846\n"
          ]
        }
      ]
    },
    {
      "cell_type": "markdown",
      "metadata": {
        "id": "J-DD-OibUj64"
      },
      "source": [
        "## 6. 衡量模型"
      ]
    },
    {
      "cell_type": "code",
      "metadata": {
        "id": "xxbK80fXpOWD",
        "colab": {
          "base_uri": "https://localhost:8080/",
          "height": 295
        },
        "outputId": "1847f9dc-21c0-430d-b74c-5816c9027cd8"
      },
      "source": [
        "plt.plot(history.history['loss'])\n",
        "plt.title('model loss')\n",
        "plt.ylabel('loss')\n",
        "plt.xlabel('epoch')\n",
        "\n",
        "plt.show()"
      ],
      "execution_count": 40,
      "outputs": [
        {
          "output_type": "display_data",
          "data": {
            "text/plain": [
              "<Figure size 432x288 with 1 Axes>"
            ],
            "image/png": "[encoded data removed]"
          },
          "metadata": {
            "needs_background": "light"
          }
        }
      ]
    },
    {
      "cell_type": "code",
      "metadata": {
        "id": "A3elbMNg4z4N",
        "colab": {
          "base_uri": "https://localhost:8080/"
        },
        "outputId": "0b7be737-ca67-4f0a-8fac-44590bd90ce6"
      },
      "source": [
        "after_train_predictions = model(input_example)\n",
        "after_sampled_indices = tf.argmax(after_train_predictions[0],1)\n",
        "\n",
        "print(\"原本的中文字序列：\")\n",
        "[print(index_2_word[ind],end=\"\") for ind in input_example[0].numpy()]\n",
        "print()\n",
        "print(\"-\"*40)\n",
        "print(\"輸入進訓練後的model後獲得：\")\n",
        "print()\n",
        "\n",
        "[print(index_2_word[ind],end=\"\") for ind in after_sampled_indices.numpy()]\n",
        "print()"
      ],
      "execution_count": 41,
      "outputs": [
        {
          "output_type": "stream",
          "name": "stdout",
          "text": [
            "原本的中文字序列：\n",
            "濟的關係嗎？」梁太太答道：「他並不是沒有\n",
            "----------------------------------------\n",
            "輸入進訓練後的model後獲得：\n",
            "\n",
            "的，係嗎？」\n",
            "太太道道：「你不不是不有錢\n"
          ]
        }
      ]
    },
    {
      "cell_type": "markdown",
      "metadata": {
        "id": "v-ZgfcpVUpbc"
      },
      "source": [
        "## 7. 做預測\n",
        "\n",
        "![](https://i.imgur.com/YsOj6Mw.png)\n",
        "\n",
        "在實際生成文字時，我們會想要增加一些隨機性。比如”天天出去” 不加入隨機 “天天天天” 如果我們全部輸出的字都是取softmax最大可能性，則一個訓練完美的model會把整本書給輸出出來。但是我們要的是，希望電腦在最大可能性的幾個字中隨機挑選一個字出來。\n",
        "\n",
        "tf.random.categorical 會根據softmax機率後隨機挑選字，但是我們不希望因為模型很爛導致不合理的字被選中，因此我們會除上一個temperature來增加可能字的比重。\n",
        "\n",
        "EX: \"天天出去\" 預測下一個字\n",
        "1. 玩 : 0.3 \n",
        "2. 天 : 0.1 \n",
        "3. 浪 : 0.4 \n",
        "\n",
        "\"天\"有的機率被印出，我們不希望。所以我們可以在每一個機率除上一個temperature(0.01)\n",
        "1. 玩 : 30 \n",
        "2. 天 : 10 \n",
        "3. 浪 : 40 \n",
        "原本\"浪\"跟\"天\"差0.3，除temperature後差30\n",
        "\n"
      ]
    },
    {
      "cell_type": "code",
      "metadata": {
        "id": "b3ryhOIg4-qB"
      },
      "source": [
        "# 預測文字，並把預測文字循環當作下一次的輸入\n",
        "\n",
        "# 設定你的temperature\n",
        "temperature = 0.01\n",
        "\n",
        "def generateWords(input,words=500):\n",
        "  [print(index_2_word[ind],end=\"\") for ind in input]\n",
        "  for i in range(words):\n",
        "    next_input = tf.expand_dims(input,axis=0)\n",
        "    predicts = model(next_input)\n",
        "    predicts = predicts[:,-1,:]\n",
        "    predicts /= temperature\n",
        "    result = tf.random.categorical(\n",
        "        predicts,num_samples=1\n",
        "    )\n",
        "    chinese_ind = tf.squeeze(result).numpy()\n",
        "    print(index_2_word[chinese_ind],end=\"\")\n",
        "    input = input+[chinese_ind]\n",
        "    input = input[-seq_len:]"
      ],
      "execution_count": 42,
      "outputs": []
    },
    {
      "cell_type": "code",
      "metadata": {
        "id": "l7ELuAjW3rKW",
        "colab": {
          "base_uri": "https://localhost:8080/"
        },
        "outputId": "f90f95d7-c44a-48ee-de78-51ce2e9b47e0"
      },
      "source": [
        "init_seq = \"紅玫瑰\"\n",
        "init_seq_ind = [word_2_index[w] for w in init_seq]\n",
        "input = init_seq_ind[-seq_len:]\n",
        "\n",
        "generateWords(input,500)"
      ],
      "execution_count": 43,
      "outputs": [
        {
          "output_type": "stream",
          "name": "stdout",
          "text": [
            "紅玫瑰，一個姿樂，蕊切地粹著一點水，瞅著她的一個印度的房子，處顏色的，像是澤的，致著一點，送了一個字，又是一個窩子。\n",
            "資鸝求到了，她做不著，因為盧兆麟躊躇的家庭，她和他們的遠體的一個撒號的季節，齡公館裏的燈光，仔細是一個敦鳳的嬤節。她怎麼能夠使人能夠相信，她缺釋地說：「你別以為你現在的時候，你有個人，你喳帳上的女兒，你們還有一個不要緊的人。」\n",
            "小寒道：「你不知道，我不是不知道，我們莫問我們對於你的。」\n",
            "小寒道：「你不知道，我不是不知道，我就是這樣的！」\n",
            "小寒道：「你不知道，我任果沒有層意。」\n",
            "小寒道：「你不知道，我們到底是怎麼樣的一個人？」\n",
            "小寒道：「你不知道，我沒有這麼一個人。」\n",
            "小寒道：「你當心嗅著你的媒，你梁太太你也不是那樣的人！」\n",
            "小寒道：「不知道，不是我說的。」\n",
            "小寒道：「不知道，我就是不篤保的節思。」\n",
            "小寒道：「你不知道，我們戰了這個，默不得，我也不懂得。」\n",
            "小寒道：「你不知道，我趁不到我們那兒去。」\n",
            "小寒道：「你不知道，我絹皮兒戶的難得聽見。」\n",
            "小寒道：「我不知道，我列著這個不好，我們不能夠干涉！」\n",
            "小寒道：「我不知道，我血待你不知道，我們掛著這個時候，我嫌你的，你肉能夠驗的。"
          ]
        }
      ]
    },
    {
      "cell_type": "code",
      "metadata": {
        "id": "LdT8wg_P6CtF"
      },
      "source": [
        "# 不要執行這一個block\n",
        "# import time\n",
        "# while True:\n",
        "#   time.sleep(5)\n",
        "#   pass"
      ],
      "execution_count": 44,
      "outputs": []
    },
    {
      "cell_type": "markdown",
      "metadata": {
        "id": "i-_4vCX4e3ZA"
      },
      "source": [
        "## 作業2.1 (30%)\n",
        "\n",
        "使用[爬蟲程式](https://colab.research.google.com/drive/1f_HvQEvgkJPFc473TlA-I_3EmkThA2SR?usp=sharing)來取得一個新的文本資料集，或是不管你從哪裡取得的資料集也可以(不要再張愛玲了，不限中英文)。然後丟入這個模型來看看AI生成文字的成果，將**結果**與**你的心得**(不是機器產生的心得)，貼上pdf。\n",
        "\n",
        "請隨意修改本colab的模型與參數來達到更好的結果。\n",
        "\n",
        "資料集越有趣越好，比如你可以去爬PTT文章來製作廢文產生器。去爬Dcard製作幻想文產生器。"
      ]
    },
    {
      "cell_type": "code",
      "metadata": {
        "id": "erwsMKL08Ql9",
        "colab": {
          "base_uri": "https://localhost:8080/"
        },
        "outputId": "d472a166-277f-43ac-8272-be98551a813f"
      },
      "source": [
        "from google.colab import drive\n",
        "drive.mount('/content/gdrive')"
      ],
      "execution_count": 45,
      "outputs": [
        {
          "output_type": "stream",
          "name": "stdout",
          "text": [
            "Mounted at /content/gdrive\n"
          ]
        }
      ]
    },
    {
      "cell_type": "code",
      "source": [
        "import numpy as np\n",
        "import tensorflow as tf\n",
        "import pandas as pd\n",
        "from tensorflow import keras\n",
        "from tensorflow.keras import layers\n",
        "import os\n",
        "import matplotlib.pyplot as plt"
      ],
      "metadata": {
        "id": "fz9V-KKmJnWQ"
      },
      "execution_count": 46,
      "outputs": []
    },
    {
      "cell_type": "code",
      "source": [
        "book = \"\"\n",
        "with open(\"/content/gdrive/MyDrive/NCU/HW2/哈利波特1神秘的魔法石.txt\",\"r\",encoding=\"utf8\") as file:\n",
        "  for line in file:\n",
        "    book += line\n",
        "\n",
        "book_length = len(book)\n",
        "unique_words = set(book)\n",
        "print(f\"哈利波特1-神秘的魔法石 {book_length} 字詞\")\n",
        "print(f\"包含了 {len(unique_words)} 個獨一無二的字 (含標點符號)\\n\")\n",
        "print(book[0:500])"
      ],
      "metadata": {
        "id": "QGp-TR08Jzps",
        "colab": {
          "base_uri": "https://localhost:8080/"
        },
        "outputId": "7662061d-dec8-458c-cbeb-9b639859a627"
      },
      "execution_count": 47,
      "outputs": [
        {
          "output_type": "stream",
          "name": "stdout",
          "text": [
            "哈利波特1-神秘的魔法石 156198 字詞\n",
            "包含了 2858 個獨一無二的字 (含標點符號)\n",
            "\n",
            "第１章 大難不死的男孩\n",
            "家住水蠟樹街四號的德思禮夫婦總是得意地說他們是非常規矩的人家。拜託，拜託了。他們從來跟神秘古怪的事不沾邊，因為他們根本不相信那些邪門歪道。\n",
            "威農德思禮先生在一家名叫格朗寧的公司做主管，公司生產鑽機。他高大魁梧，胖得幾乎連脖子都沒了，卻蓄著一臉大鬍子。德思禮太太是個瘦削的金髮女人。她的脖子幾乎比正常人長一倍。這樣每當她花許多時間隔著籬牆引頸而望、窺探左鄰右舍時，她的長脖子可就派上了大用場。德思禮夫婦有一個小兒子，名叫達力。在他們看來，人世間沒有比達力更好的孩子了。\n",
            "德思禮一家什麼都不缺，但他們擁有一個秘密，他們最害怕的就是這秘密會被人發現。他們想，一旦有人發現波特一家的事，他們會承受不住的。波特太太是德思禮太太的妹妹，不過她們已經有好幾年不見面了。實際上，德思禮太太佯裝自己根本沒有這麼個妹妹，因為她妹妹和她那一無是處的妹夫與德思禮一家的為人處世完全不一樣。一想到鄰居們會說波特夫婦來到了，德思禮夫婦會嚇得膽顫心驚。他們知道波特也有個兒子，只是他們從來沒有見過。這孩子也是他們不與波特夫婦來往的一個很好的藉口，他們不願讓達力跟這種孩子廝混。\n",
            "我們的故事開始於一個晦暗、陰\n"
          ]
        }
      ]
    },
    {
      "cell_type": "code",
      "source": [
        "# 計算字數統計\n",
        "words_count = {}\n",
        "for w in book:\n",
        "  if w in words_count:\n",
        "    words_count[w] += 1\n",
        "  else:\n",
        "    words_count[w] = 1\n",
        "\n",
        "words_count = sorted(words_count.items(),key=lambda x:x[1])"
      ],
      "metadata": {
        "id": "qKaYdrs7J2gE"
      },
      "execution_count": 48,
      "outputs": []
    },
    {
      "cell_type": "code",
      "source": [
        "stop_word = 8\n",
        "unique_words = [w_tup[0] for w_tup in words_count if w_tup[1]>stop_word]\n",
        "print(f\"去除次數小於{stop_word}的文字剩餘 : {len(unique_words)}\")"
      ],
      "metadata": {
        "id": "WqCzmB9-J4_a",
        "colab": {
          "base_uri": "https://localhost:8080/"
        },
        "outputId": "84e5ca63-7fdf-4c81-c916-4f305fbef0db"
      },
      "execution_count": 49,
      "outputs": [
        {
          "output_type": "stream",
          "name": "stdout",
          "text": [
            "去除次數小於8的文字剩餘 : 1375\n"
          ]
        }
      ]
    },
    {
      "cell_type": "code",
      "source": [
        "print(f\"原本哈利波特共有 {book_length} 字詞\")\n",
        "print(f\"去除不常出現的文字後\")\n",
        "book = [w for w in book if w in unique_words]\n",
        "print(f\"剩餘{len(book)}個字\")"
      ],
      "metadata": {
        "id": "PmJAoEcaJ6eu",
        "colab": {
          "base_uri": "https://localhost:8080/"
        },
        "outputId": "f0c76c16-40e2-4c21-9611-3846c9a2fcaa"
      },
      "execution_count": 50,
      "outputs": [
        {
          "output_type": "stream",
          "name": "stdout",
          "text": [
            "原本哈利波特共有 156198 字詞\n",
            "去除不常出現的文字後\n",
            "剩餘151496個字\n"
          ]
        }
      ]
    },
    {
      "cell_type": "code",
      "source": [
        "# 文字轉數字(index)\n",
        "word_2_index = {word:index for index,word in enumerate(unique_words)}\n",
        "index_2_word = {word_2_index[word]:word for word in word_2_index}\n",
        "\n",
        "book_2_index = [word_2_index[w] for w in book]\n",
        "\n",
        "print(\"原始文字 : \")\n",
        "print(book[:40])\n",
        "print(\"-\"*40)\n",
        "print(\"轉成index : \")\n",
        "print({word_2_index[w] for w in book[:40]})"
      ],
      "metadata": {
        "id": "C0riVVlhJ8kn",
        "colab": {
          "base_uri": "https://localhost:8080/"
        },
        "outputId": "36e8b572-c632-46ee-f218-cd7074a795e4"
      },
      "execution_count": 51,
      "outputs": [
        {
          "output_type": "stream",
          "name": "stdout",
          "text": [
            "原始文字 : \n",
            "['第', '章', ' ', '大', '難', '不', '死', '的', '男', '孩', '\\n', '家', '住', '水', '蠟', '樹', '街', '四', '號', '的', '德', '思', '禮', '夫', '婦', '總', '是', '得', '意', '地', '說', '他', '們', '是', '非', '常', '規', '的', '人', '家']\n",
            "----------------------------------------\n",
            "轉成index : \n",
            "{1176, 1180, 1186, 1187, 809, 683, 1069, 1333, 695, 1337, 1342, 1220, 1094, 969, 1354, 1101, 1358, 1105, 978, 1362, 1364, 1365, 1370, 1242, 1372, 1371, 1118, 1123, 486, 1254, 487, 872, 1258, 1133, 888, 1150}\n"
          ]
        }
      ]
    },
    {
      "cell_type": "code",
      "source": [
        "def ind2word_seq(seq):\n",
        "  return [index_2_word[i] for i in seq]"
      ],
      "metadata": {
        "id": "rZkkm4AdJ_iQ"
      },
      "execution_count": 52,
      "outputs": []
    },
    {
      "cell_type": "code",
      "source": [
        "# 設定輸入模型長度\n",
        "seq_len = 20\n",
        "characters = tf.data.Dataset.from_tensor_slices(book_2_index)\n",
        "# characters = characters.map(lambda w:word_2_index[w.item()])\n",
        "\n",
        "sequences = characters.batch(seq_len+1,drop_remainder=True)\n",
        "\n",
        "for seq in sequences.take(2):\n",
        "  print(seq.shape)\n",
        "  print(seq)\n",
        "  print([index_2_word[i] for i in seq.numpy()])"
      ],
      "metadata": {
        "id": "hZcXxdGHKA9q",
        "colab": {
          "base_uri": "https://localhost:8080/"
        },
        "outputId": "12116e60-4992-4c88-aafc-95dc9abacc3d"
      },
      "execution_count": 53,
      "outputs": [
        {
          "output_type": "stream",
          "name": "stdout",
          "text": [
            "(21,)\n",
            "tf.Tensor(\n",
            "[1180  486  888 1337 1094 1365 1133 1372 1123 1101 1370 1254 1258  978\n",
            "  487  969  872 1069  695 1372 1176], shape=(21,), dtype=int32)\n",
            "['第', '章', ' ', '大', '難', '不', '死', '的', '男', '孩', '\\n', '家', '住', '水', '蠟', '樹', '街', '四', '號', '的', '德']\n",
            "(21,)\n",
            "tf.Tensor(\n",
            "[1220 1186 1187  809 1118 1364 1333 1242 1354 1358 1371 1362 1364 1105\n",
            " 1150  683 1372 1342 1254 1373 1374], shape=(21,), dtype=int32)\n",
            "['思', '禮', '夫', '婦', '總', '是', '得', '意', '地', '說', '他', '們', '是', '非', '常', '規', '的', '人', '家', '。', '，']\n"
          ]
        }
      ]
    },
    {
      "cell_type": "code",
      "source": [
        "# 做input、target切割\n",
        "def split_input_target(seq):\n",
        "  input_txt = seq[:-1]\n",
        "  target_txt = seq[1:]\n",
        "  return input_txt,target_txt\n",
        "\n",
        "split_input_target(list(\"Tensorflow\"))"
      ],
      "metadata": {
        "id": "NMdjkBciKCoN",
        "colab": {
          "base_uri": "https://localhost:8080/"
        },
        "outputId": "1b6ec0d7-512c-49de-df4e-54eac7c2760f"
      },
      "execution_count": 54,
      "outputs": [
        {
          "output_type": "execute_result",
          "data": {
            "text/plain": [
              "(['T', 'e', 'n', 's', 'o', 'r', 'f', 'l', 'o'],\n",
              " ['e', 'n', 's', 'o', 'r', 'f', 'l', 'o', 'w'])"
            ]
          },
          "metadata": {},
          "execution_count": 54
        }
      ]
    },
    {
      "cell_type": "code",
      "source": [
        "dataset = sequences.map(split_input_target)\n",
        "\n",
        "for input_example,target_exaple in dataset.take(1):\n",
        "  print(\"Input :\", ind2word_seq(input_example.numpy()))\n",
        "  print(\"Target:\", ind2word_seq(target_exaple.numpy()))\n",
        "  print(\"-\"*50)\n",
        "  print(\"Input :\", input_example.numpy())\n",
        "  print(\"Target:\", target_exaple.numpy())"
      ],
      "metadata": {
        "id": "ELtRtGYBKIrG",
        "colab": {
          "base_uri": "https://localhost:8080/"
        },
        "outputId": "98b5f0ea-cb9f-4a0c-a4c9-766c093eaf72"
      },
      "execution_count": 55,
      "outputs": [
        {
          "output_type": "stream",
          "name": "stdout",
          "text": [
            "Input : ['第', '章', ' ', '大', '難', '不', '死', '的', '男', '孩', '\\n', '家', '住', '水', '蠟', '樹', '街', '四', '號', '的']\n",
            "Target: ['章', ' ', '大', '難', '不', '死', '的', '男', '孩', '\\n', '家', '住', '水', '蠟', '樹', '街', '四', '號', '的', '德']\n",
            "--------------------------------------------------\n",
            "Input : [1180  486  888 1337 1094 1365 1133 1372 1123 1101 1370 1254 1258  978\n",
            "  487  969  872 1069  695 1372]\n",
            "Target: [ 486  888 1337 1094 1365 1133 1372 1123 1101 1370 1254 1258  978  487\n",
            "  969  872 1069  695 1372 1176]\n"
          ]
        }
      ]
    },
    {
      "cell_type": "code",
      "source": [
        "# 建立資料集\n",
        "# Batch size\n",
        "BATCH_SIZE = 64\n",
        "\n",
        "BUFFER_SIZE = 10000\n",
        "\n",
        "dataset = (\n",
        "    dataset\n",
        "    .shuffle(BUFFER_SIZE)\n",
        "    .batch(BATCH_SIZE, drop_remainder=True))\n",
        "\n",
        "dataset"
      ],
      "metadata": {
        "id": "Jy35err0KKSV",
        "colab": {
          "base_uri": "https://localhost:8080/"
        },
        "outputId": "414dd82a-ad96-45f0-9d59-4fa991983dcb"
      },
      "execution_count": 56,
      "outputs": [
        {
          "output_type": "execute_result",
          "data": {
            "text/plain": [
              "<BatchDataset element_spec=(TensorSpec(shape=(64, 20), dtype=tf.int32, name=None), TensorSpec(shape=(64, 20), dtype=tf.int32, name=None))>"
            ]
          },
          "metadata": {},
          "execution_count": 56
        }
      ]
    },
    {
      "cell_type": "code",
      "source": [
        "# 超參數\n",
        "EMBEDDING_DIM = 512\n",
        "\n",
        "# 使用 keras 建立一個非常簡單的 LSTM 模型\n",
        "model = tf.keras.Sequential()\n",
        "\n",
        "model.add(\n",
        "  tf.keras.layers.Embedding(\n",
        "    input_dim=len(unique_words), \n",
        "    output_dim=EMBEDDING_DIM\n",
        "))\n",
        "\n",
        "model.add(\n",
        "  tf.keras.layers.LSTM(\n",
        "    units=4096, \n",
        "    return_sequences=True, \n",
        "))\n",
        "\n",
        "model.add(\n",
        "  tf.keras.layers.LSTM(\n",
        "    units=2048, \n",
        "    return_sequences=True,\n",
        "))\n",
        "  \n",
        "model.add(\n",
        "  tf.keras.layers.Dense(\n",
        "      len(unique_words),activation=\"softmax\"))\n",
        "\n",
        "model.summary()"
      ],
      "metadata": {
        "id": "AnTW1WB9KMgK",
        "colab": {
          "base_uri": "https://localhost:8080/"
        },
        "outputId": "2ce9b1e6-3946-4ed8-84a0-9f37dd7d3e88"
      },
      "execution_count": 57,
      "outputs": [
        {
          "output_type": "stream",
          "name": "stdout",
          "text": [
            "Model: \"sequential_2\"\n",
            "_________________________________________________________________\n",
            " Layer (type)                Output Shape              Param #   \n",
            "=================================================================\n",
            " embedding_2 (Embedding)     (None, None, 512)         704000    \n",
            "                                                                 \n",
            " lstm_4 (LSTM)               (None, None, 4096)        75513856  \n",
            "                                                                 \n",
            " lstm_5 (LSTM)               (None, None, 2048)        50339840  \n",
            "                                                                 \n",
            " dense_2 (Dense)             (None, None, 1375)        2817375   \n",
            "                                                                 \n",
            "=================================================================\n",
            "Total params: 129,375,071\n",
            "Trainable params: 129,375,071\n",
            "Non-trainable params: 0\n",
            "_________________________________________________________________\n"
          ]
        }
      ]
    },
    {
      "cell_type": "code",
      "source": [
        "# 查看模型的輸入、輸出 shape\n",
        "for input_example,target_exaple in dataset.take(1):\n",
        "  predict_example = model(input_example)\n",
        "  print(f\"Model input shape : {input_example.shape}\")\n",
        "  print(f\"Model output shape : {predict_example.shape}\")\n",
        "  print(f\"Model target shape : {target_exaple.shape}\")"
      ],
      "metadata": {
        "id": "c_DbUdgIKOGd",
        "colab": {
          "base_uri": "https://localhost:8080/"
        },
        "outputId": "040421e0-9992-4733-9211-41691858b706"
      },
      "execution_count": 58,
      "outputs": [
        {
          "output_type": "stream",
          "name": "stdout",
          "text": [
            "Model input shape : (64, 20)\n",
            "Model output shape : (64, 20, 1375)\n",
            "Model target shape : (64, 20)\n"
          ]
        }
      ]
    },
    {
      "cell_type": "code",
      "source": [
        "print(\"原本的中文字序列：\")\n",
        "[print(index_2_word[ind],end=\"\") for ind in input_example[0].numpy()]\n",
        "print()\n",
        "print(\"-\"*40)\n",
        "print(\"輸入尚未訓練的model後獲得：\")\n",
        "print()\n",
        "\n",
        "predict_words = tf.math.argmax(predict_example[0],-1)\n",
        "[print(index_2_word[ind],end=\"\") for ind in predict_words.numpy()]\n",
        "print()"
      ],
      "metadata": {
        "id": "x2NwK8LkKPtO",
        "colab": {
          "base_uri": "https://localhost:8080/"
        },
        "outputId": "c957f40f-15ca-463b-d5d8-3d8926b9b71c"
      },
      "execution_count": 59,
      "outputs": [
        {
          "output_type": "stream",
          "name": "stdout",
          "text": [
            "原本的中文字序列：\n",
            "，大喊大叫，連帶跳往後退去。\n",
            "哈利坐起來\n",
            "----------------------------------------\n",
            "輸入尚未訓練的model後獲得：\n",
            "\n",
            "冰冰冰冰讀讀讀讀讀讀讀讀讀妙妙答彿父彿彿\n"
          ]
        }
      ]
    },
    {
      "cell_type": "code",
      "source": [
        "model.compile(loss=\"sparse_categorical_crossentropy\",optimizer=\"adam\")"
      ],
      "metadata": {
        "id": "blfZn7laKRN1"
      },
      "execution_count": 60,
      "outputs": []
    },
    {
      "cell_type": "code",
      "source": [
        "EPOCHS = 20\n",
        "history = model.fit(\n",
        "    dataset, # 前面使用 tf.data 建構的資料集\n",
        "    epochs=EPOCHS,\n",
        ")"
      ],
      "metadata": {
        "id": "fRPZTUHKKbaj",
        "colab": {
          "base_uri": "https://localhost:8080/"
        },
        "outputId": "d1597d9d-3a6a-4d9d-fca6-953a524c80df"
      },
      "execution_count": 61,
      "outputs": [
        {
          "output_type": "stream",
          "name": "stdout",
          "text": [
            "Epoch 1/20\n",
            "112/112 [==============================] - 36s 296ms/step - loss: 6.0350\n",
            "Epoch 2/20\n",
            "112/112 [==============================] - 35s 307ms/step - loss: 5.2886\n",
            "Epoch 3/20\n",
            "112/112 [==============================] - 36s 322ms/step - loss: 4.7693\n",
            "Epoch 4/20\n",
            "112/112 [==============================] - 37s 324ms/step - loss: 4.3845\n",
            "Epoch 5/20\n",
            "112/112 [==============================] - 38s 332ms/step - loss: 4.0908\n",
            "Epoch 6/20\n",
            "112/112 [==============================] - 37s 332ms/step - loss: 3.8429\n",
            "Epoch 7/20\n",
            "112/112 [==============================] - 38s 335ms/step - loss: 3.6044\n",
            "Epoch 8/20\n",
            "112/112 [==============================] - 38s 333ms/step - loss: 3.3495\n",
            "Epoch 9/20\n",
            "112/112 [==============================] - 38s 335ms/step - loss: 3.0738\n",
            "Epoch 10/20\n",
            "112/112 [==============================] - 38s 335ms/step - loss: 2.7570\n",
            "Epoch 11/20\n",
            "112/112 [==============================] - 38s 333ms/step - loss: 2.3906\n",
            "Epoch 12/20\n",
            "112/112 [==============================] - 38s 335ms/step - loss: 1.9779\n",
            "Epoch 13/20\n",
            "112/112 [==============================] - 38s 334ms/step - loss: 1.5338\n",
            "Epoch 14/20\n",
            "112/112 [==============================] - 38s 334ms/step - loss: 1.0889\n",
            "Epoch 15/20\n",
            "112/112 [==============================] - 38s 334ms/step - loss: 0.7213\n",
            "Epoch 16/20\n",
            "112/112 [==============================] - 38s 336ms/step - loss: 0.4806\n",
            "Epoch 17/20\n",
            "112/112 [==============================] - 38s 333ms/step - loss: 0.3560\n",
            "Epoch 18/20\n",
            "112/112 [==============================] - 38s 335ms/step - loss: 0.2984\n",
            "Epoch 19/20\n",
            "112/112 [==============================] - 38s 334ms/step - loss: 0.2720\n",
            "Epoch 20/20\n",
            "112/112 [==============================] - 38s 335ms/step - loss: 0.2593\n"
          ]
        }
      ]
    },
    {
      "cell_type": "code",
      "source": [
        "plt.plot(history.history['loss'])\n",
        "plt.title('model loss')\n",
        "plt.ylabel('loss')\n",
        "plt.xlabel('epoch')\n",
        "\n",
        "plt.show()"
      ],
      "metadata": {
        "id": "bO-6II0RKgG2",
        "colab": {
          "base_uri": "https://localhost:8080/",
          "height": 295
        },
        "outputId": "092843cf-274a-4abe-f8e4-835b4be6bfaf"
      },
      "execution_count": 62,
      "outputs": [
        {
          "output_type": "display_data",
          "data": {
            "text/plain": [
              "<Figure size 432x288 with 1 Axes>"
            ],
            "image/png": "[encoded data removed]"
          },
          "metadata": {
            "needs_background": "light"
          }
        }
      ]
    },
    {
      "cell_type": "code",
      "source": [
        "after_train_predictions = model(input_example)\n",
        "after_sampled_indices = tf.argmax(after_train_predictions[0],1)\n",
        "\n",
        "print(\"原本的中文字序列：\")\n",
        "[print(index_2_word[ind],end=\"\") for ind in input_example[0].numpy()]\n",
        "print()\n",
        "print(\"-\"*40)\n",
        "print(\"輸入進訓練後的model後獲得：\")\n",
        "print()\n",
        "\n",
        "[print(index_2_word[ind],end=\"\") for ind in after_sampled_indices.numpy()]\n",
        "print()"
      ],
      "metadata": {
        "id": "rMr8bU7CKmO3",
        "colab": {
          "base_uri": "https://localhost:8080/"
        },
        "outputId": "eda145e6-b51d-40d8-8d84-868cb3a5501c"
      },
      "execution_count": 63,
      "outputs": [
        {
          "output_type": "stream",
          "name": "stdout",
          "text": [
            "原本的中文字序列：\n",
            "，大喊大叫，連帶跳往後退去。\n",
            "哈利坐起來\n",
            "----------------------------------------\n",
            "輸入進訓練後的model後獲得：\n",
            "\n",
            "「喊大叫，連帶跳往後退去。\n",
            "哈利坐起來，\n"
          ]
        }
      ]
    },
    {
      "cell_type": "code",
      "source": [
        "# 預測文字，並把預測文字循環當作下一次的輸入\n",
        "\n",
        "# 設定你的temperature\n",
        "temperature = 0.01\n",
        "\n",
        "def generateWords(input,words=500):\n",
        "  [print(index_2_word[ind],end=\"\") for ind in input]\n",
        "  for i in range(words):\n",
        "    next_input = tf.expand_dims(input,axis=0)\n",
        "    predicts = model(next_input)\n",
        "    predicts = predicts[:,-1,:]\n",
        "    predicts /= temperature\n",
        "    result = tf.random.categorical(\n",
        "        predicts,num_samples=1\n",
        "    )\n",
        "    chinese_ind = tf.squeeze(result).numpy()\n",
        "    print(index_2_word[chinese_ind],end=\"\")\n",
        "    input = input+[chinese_ind]\n",
        "    input = input[-seq_len:]"
      ],
      "metadata": {
        "id": "kYgR_i9kKn-V"
      },
      "execution_count": 64,
      "outputs": []
    },
    {
      "cell_type": "code",
      "source": [
        "init_seq = \"哈利波特\"\n",
        "init_seq_ind = [word_2_index[w] for w in init_seq]\n",
        "input = init_seq_ind[-seq_len:]\n",
        "\n",
        "generateWords(input,500)"
      ],
      "metadata": {
        "id": "mPph85H2KqJr",
        "colab": {
          "base_uri": "https://localhost:8080/"
        },
        "outputId": "ba28634e-e95f-41e9-ecb7-bb8649150cab"
      },
      "execution_count": 65,
      "outputs": [
        {
          "output_type": "stream",
          "name": "stdout",
          "text": [
            "哈利波特！」\n",
            "他的心突然往下一沉，比他剛才出來了，他的生日裡還有一個再躲。」\n",
            "「我就把你留在這兒吧，」哈利說，「我們必須充當棋子。」\n",
            "「我不知道，先生。」\n",
            "「我不知道它叫這個名字，先生。」海格說。\n",
            "「我不是弗雷，我不知道你是誰了！」\n",
            "「我想，我們一定離來了。」\n",
            "「不管怎麼說……哈利，」巨蟒說，「你們可以肯定一定是學校裡的學院。我們需要學習的東西太多，就把隱形斗篷送給你的。」\n",
            "「我……不想……穿……」\n",
            "「別大聲嚷嚷，」他說，「我們必須充當棋子。」\n",
            "「我不知道，先生。」\n",
            "「我不知道它叫這個名字，先生。」海格說著，舉起望遠鏡，巨蟒從他們身邊走過去。\n",
            "「好，」海格說，「裏邊是魁地奇球的是爆，」他們把隱形斗篷拉在身上。\n",
            "「我們還是回家去比好，」他對著一隻子住前，佩妮阿姨說服達力坐到哈利身邊，想看這裡就是個盼望。\n",
            "哈利覺得自己臉上頓時失去了血跡。\n",
            "「……他還是有一個秘密。」\n",
            "「我們只能猜測，」哈利說，「幸吧，我們現在必須這麼做，」鄧不利多說，「我們不知道這個洞有多深。把笛子給你們，想要在霍格華茲魔法學校就讀。隨信很強，我們需要一個人，這是一個好。」\n",
            "「哦，」男孩說，「我聽說過這個洞有不同的動物，可是你們在"
          ]
        }
      ]
    }
  ]
}